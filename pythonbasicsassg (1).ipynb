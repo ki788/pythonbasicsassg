{
  "nbformat": 4,
  "nbformat_minor": 0,
  "metadata": {
    "colab": {
      "provenance": []
    },
    "kernelspec": {
      "name": "python3",
      "display_name": "Python 3"
    },
    "language_info": {
      "name": "python"
    }
  },
  "cells": [
    {
      "cell_type": "markdown",
      "source": [
        "# Python basics questions\n"
      ],
      "metadata": {
        "id": "JNISQ_rFLmuG"
      }
    },
    {
      "cell_type": "markdown",
      "source": [
        "1 What is python, and why is it popular?\n",
        "- python is a high level,interpreted programming language known for its simplicity and readability.It was created by Guido van Rossum and first relased in 1991.Python is popular because (a) easy to learn and use:python clean and readable syntax makes it ideal for begginners.(b)Cross-platform:python runs on many operating systems with minimal modification.\n"
      ],
      "metadata": {
        "id": "D_AzCzb4MDRF"
      }
    },
    {
      "cell_type": "markdown",
      "source": [
        "2 What is an interpreter in python?\n",
        "- An interpreter in python is a program that reads and executes python code line by line.It translates the high level python code into machine code at runtime so the computer can perform the specified tasks.\n"
      ],
      "metadata": {
        "id": "DcdxZfWlP6P5"
      }
    },
    {
      "cell_type": "markdown",
      "source": [
        "3 What are pre-defined keywords in python?\n",
        "- Predefined keywords in python are reserved words that have special meaning and purpose in the language.you cannot use them as variables names or identifiers because they are part of python syntax.\n",
        "\n"
      ],
      "metadata": {
        "id": "HG6rl64kRKEQ"
      }
    },
    {
      "cell_type": "markdown",
      "source": [
        "4 Can keywords be used as variable names?\n",
        "- NO,keywords cannot be used as variables names in python.since keywords have special meanings in the language like if, for,class etc using them as variable names will result in a syntax error.\n"
      ],
      "metadata": {
        "id": "LENmx3sGSwZB"
      }
    },
    {
      "cell_type": "markdown",
      "source": [
        "5 What is mutability in python?\n",
        "- Mutability in python refers to whether or not an object can be changed after it is created.Mutability helps avoid bugs,especially when passing object to functions.\n"
      ],
      "metadata": {
        "id": "E8OFeTO3UHdQ"
      }
    },
    {
      "cell_type": "markdown",
      "source": [
        "6 Why are lists mutable,but tuples are immutable?\n",
        "- MUtable objects,such as lists and dictionaries,can be modified after creation,while immutable objects,such as tuples and strings,cannot."
      ],
      "metadata": {
        "id": "tiEeyJNQVY1c"
      }
    },
    {
      "cell_type": "markdown",
      "source": [
        "7 What is the difference between\"==\" and \"is\" operators in python?\n",
        "- (a) ==(Equality operator):checks if the value of two objects are equal.It compares the content of the objects.(b) is(identity operator):Checks if two objects refer to the same memory location.It compares the identity not the values.\n"
      ],
      "metadata": {
        "id": "aYIdCDt8WYFU"
      }
    },
    {
      "cell_type": "markdown",
      "source": [
        "8 What are logical operators in python?\n",
        "- Logical operators in python are used to combine conditional statements.There are three type of operators:and,or,not.These operators are often used in if statements to control the flow of logic."
      ],
      "metadata": {
        "id": "Pu2ekTphYSDU"
      }
    },
    {
      "cell_type": "markdown",
      "source": [
        "9 What is type casting in python?\n",
        "- Type casting also prefered to as type conversion,is the process of changing one data type to another in python."
      ],
      "metadata": {
        "id": "EpqVOkcQZZ6B"
      }
    },
    {
      "cell_type": "markdown",
      "source": [
        "10 What is the difference between implicit and explicit type casting?\n",
        "- Implicit:Python decides,safe,automate.Explicit:you decide, may lose data or cause errors if done carelessly."
      ],
      "metadata": {
        "id": "rHuc4SMZaIWc"
      }
    },
    {
      "cell_type": "markdown",
      "source": [
        "11 What is the purpose of conditional statements in python?\n",
        "-  The purpose of conditional statements in python is to control the flow of the program based on whether a condition is true or false.They allow your program to make decisions and execute different blocks of code accordingly."
      ],
      "metadata": {
        "id": "sKqhH_e6cwGr"
      }
    },
    {
      "cell_type": "markdown",
      "source": [
        "12 How does the elif statement work?\n",
        "-  The elif statement in python is used to check multiple condition after an initialif condition.It runs only if the if condtion is false,and it allows checking additional conditions in sequences.python checks the if condition first then if if is false,it moves to the elif condition then if any elif is true,that block runs and the rest are skipped.if none are true,the else block runs."
      ],
      "metadata": {
        "id": "ZsmxagDZeAE0"
      }
    },
    {
      "cell_type": "markdown",
      "source": [
        "13 What is the difference between for and while loops?\n",
        "-  \"For\" loops are used for iterating over a sequence of elements,while \"while\" loops are used for executing code until a specified condition become false."
      ],
      "metadata": {
        "id": "8o1pQukBf3cx"
      }
    },
    {
      "cell_type": "markdown",
      "source": [
        "14 Describe a scenario where a while loop is more suitable than a for loop?\n",
        "-  A while loop is more suitable than a for loop you dont know in advance how many times the loop should run,and you want to keep looping until a certain condition is no longer true.  Example Scenario:User login attempt\n",
        "correct_password=\"python123\"\n",
        "user_input =\"\"\n",
        "while user_input = correct password:\n",
        "user_input = input(\"Enter password: \")\n",
        "print(\"Acess granted\")\n",
        "In this case you dont know how many attempts the user will need so a while loop is ideal."
      ],
      "metadata": {
        "id": "CJTnLpKQg6Ym"
      }
    },
    {
      "cell_type": "markdown",
      "source": [
        "# Practical questions"
      ],
      "metadata": {
        "id": "hzicxv8mjwaA"
      }
    },
    {
      "cell_type": "code",
      "source": [],
      "metadata": {
        "id": "tc_C-nY4mwJ4"
      },
      "execution_count": null,
      "outputs": []
    },
    {
      "cell_type": "markdown",
      "source": [
        "1 Write a python  to print\"Hello World!\"\n",
        "- print(\"Hello World\")"
      ],
      "metadata": {
        "id": "S_0o2pKJj7WV"
      }
    },
    {
      "cell_type": "code",
      "source": [],
      "metadata": {
        "id": "XogShsEIm179"
      },
      "execution_count": null,
      "outputs": []
    },
    {
      "cell_type": "code",
      "source": [
        "2 Write a python program that displays your name and age.\n",
        "name = \"Anjali Bhavel\"\n",
        "age=\"24\"\n",
        "print(\"My name is\",name)\n",
        "print(\"I am\",age,\"years old\")"
      ],
      "metadata": {
        "id": "xDeL-n0tldIu"
      },
      "execution_count": null,
      "outputs": []
    },
    {
      "cell_type": "code",
      "source": [
        "3 Write code to print all the pre defined keywords in python using the keyword library.\n",
        "import keyword\n",
        "keywords_list = keyword.kwlist\n",
        "print(\" python keywords:\")\n",
        "for kw in keywords_list: print(kw)\n",
        "\n"
      ],
      "metadata": {
        "id": "D0uJPqQJmVQY"
      },
      "execution_count": null,
      "outputs": []
    },
    {
      "cell_type": "code",
      "source": [
        "4 Write a program that checks if a given word is a python keyword.\n",
        "word = input(\"Enter a word to check if its a python keyword: \")\n",
        "if is_python_keyword(word):print(f\"'{word} is a python keyword.\")\n",
        "else:print(f\"'{word} is not a python keyword.\")"
      ],
      "metadata": {
        "id": "TSsBHroJoGly"
      },
      "execution_count": null,
      "outputs": []
    },
    {
      "cell_type": "code",
      "source": [
        "5 Create a list and tuple in python and demonstrate how attempting to change an element works differently for each.\n",
        "my_list =[1,2,3]\n",
        "my_tuple=[1,2,3]\n",
        "print(\"Original list:\",my_list) my_list[0]=10\n",
        "print(\"Modified list:\",my_list)\n",
        "print(\"original tuple:\",my_tuple)\n",
        "try:\n",
        "  my_tuple[0]=10\n",
        "  except TypeError as e:\n",
        "    print(\"Error when typing to modify tuple:\",e)\n",
        "\n"
      ],
      "metadata": {
        "id": "_gInL6VApyva"
      },
      "execution_count": null,
      "outputs": []
    },
    {
      "cell_type": "code",
      "source": [
        "6 Write a functions to demonstrate the behaviour of mutable and immutable arguments.\n",
        "def modify_immutable(x):print(\"Before modification(inside functions):\",x)\n",
        "x += 10\n",
        "print(\"After modification (inside function):\",x)\n",
        "def modify_mutable(1st):print(\"Before modification(inside function):\",1st)\n",
        "1st.append(100)\n",
        "print(\"After modification(inside function):\",1st)\n",
        "num= 5\n",
        "print(\"original(outside function):\",num)\n",
        "modify_immutable(num)\n",
        "print(\"After function call (outside function):\",num)\n",
        "print()\n",
        "my_list = [1,2,3]\n",
        "print(\"Original(outside function):\",my_list)\n",
        "modify_mutable(my_list)\n",
        "print(\"After function call (outside function):\",my_list)"
      ],
      "metadata": {
        "id": "aXEL0188uUOw"
      },
      "execution_count": null,
      "outputs": []
    },
    {
      "cell_type": "code",
      "source": [
        "7 Write a program that performs basic arithmetic operations on two user input numbers.\n",
        "num = float(input(\"Enter the first number:\"))\n",
        "num =float(input(\"Enter the second number:\"))\n",
        "addition=num1 + num2\n",
        "subtraction = num1 -num2\n",
        "multiplication = num1*num2\n",
        "if num2 !=0:\n",
        "  division =\"undefined(cannot defined by zero)\"\n",
        "  print(\"\\nResults:\")\n",
        "  print(f\"Addition:{num1}+{num2}={addition}\")\n",
        "  printf(f\"subtraction:{num1}-{num2}={subtraction}\")\n",
        "  printf(f\"Multiplication:{num1}*{num2}={Multiplication}\")\n",
        "  printf(f\"Division:{num1}/{num2} ={division}\")"
      ],
      "metadata": {
        "id": "rw8b_CuZxh5L"
      },
      "execution_count": null,
      "outputs": []
    },
    {
      "cell_type": "code",
      "source": [
        "8 Write a program to demonstrate the use of logical operators.\n",
        "a = int(input(\"Enter first number:\"))\n",
        "b = int(input(\"Enter second number:\"))\n",
        "if a>0 and b>0:\n",
        "  print(\"Both numbers are positive.\")\n",
        "if a>0 or b> 0:\n",
        "print(\"At least one number is positive\")\n",
        "if not(a<0 or b<0):\n",
        "print(\"Neither number is negative.\")\n",
        "else:print(\"At least one number is negative.\")"
      ],
      "metadata": {
        "id": "qwv5lf4z0j_Q"
      },
      "execution_count": null,
      "outputs": []
    },
    {
      "cell_type": "code",
      "source": [
        "9 Write a python program to convert user input from string to integer,float, and boolean types.\n",
        "user_input = input(\"Enter a value:\")\n",
        "try:int_value =int(user_input)\n",
        "print(\"integer value:{int_value}\")\n",
        "except valueError:\n",
        "  printf(\"cannot convert input to integer.\")\n",
        "float_value=float(user_input)\n",
        "print(f\"Float value:{float_value}\")\n",
        "except ValueError:\n",
        "print(\"Cannot convert input to float.\")\n",
        "bool_value =bool(user_input.strip())\n",
        "printf(f\"Boolean value:{bool_value}\")"
      ],
      "metadata": {
        "id": "vjk0aQxl3IGf"
      },
      "execution_count": null,
      "outputs": []
    },
    {
      "cell_type": "code",
      "source": [
        "10 Write code to demonstrate type casting with list elements.\n",
        "str_list =[\"10\",\"20\",\"30\",\"true\",\"False\",\"\"]\n",
        "int_list =[]\n",
        "for item in str_list:\n",
        "  try:int_list.append(int(float(item)))\n",
        "  except valueerror:\n",
        "  int_list.append(\"invalid\")\n",
        "  print(\"integer list:\",int_list)"
      ],
      "metadata": {
        "id": "Bi_6UBBQ5oSz"
      },
      "execution_count": null,
      "outputs": []
    },
    {
      "cell_type": "code",
      "source": [
        "11 Write a program that checks if a number is positive,negative,or zero.\n",
        "num = float(input(\"Enter a number:\"))\n",
        "if num>0:\n",
        "  print(\"The number is positive.\")\n",
        "  elif num<0\n",
        "  print (\"The number is negative.\")\n",
        "  else:\n",
        "    print(\"The number is zero.\")\n"
      ],
      "metadata": {
        "id": "1PMCKy5j7pHb"
      },
      "execution_count": null,
      "outputs": []
    },
    {
      "cell_type": "code",
      "source": [
        "12 Write a for loop to print numbers from 1 to 10.\n",
        "for i in range(1,11):\n",
        "  print(i)"
      ],
      "metadata": {
        "id": "SKmA1hep82aA"
      },
      "execution_count": null,
      "outputs": []
    },
    {
      "cell_type": "code",
      "source": [
        "13 Write a python program to find the sum of all even numbers between 1 and 50.\n",
        "total = 0\n",
        "for num in range(1,51):\n",
        "  if num % 2 ==0;\n",
        "  total + = num\n",
        "  print(\"Sum of even numbers from 1 to 50 is:\",total)"
      ],
      "metadata": {
        "id": "xgSTyTi09uX5"
      },
      "execution_count": null,
      "outputs": []
    },
    {
      "cell_type": "code",
      "source": [
        "14 Write a program to reverse a string using a while loop.\n",
        "text = input(\"Enter a string:\")\n",
        "reversed_text = \"\"\n",
        "index = len(text)- 1\n",
        "while index >= 0:\n",
        "  reversed_text += text[index]\n",
        "  index-=1\n",
        "  print(\"Reversed string:\",reversed_text)\n"
      ],
      "metadata": {
        "id": "H8TOiM6g-wnX"
      },
      "execution_count": null,
      "outputs": []
    },
    {
      "cell_type": "code",
      "source": [
        "15 Write a python program to calculate the factorial of a number provided by the user using a while loop.\n",
        "num = int(input(\"Enter a non-negative integer:\"))\n",
        "if num < 0:\n",
        "  print(\"Factorial is not defined for negative numbers.\")\n",
        "  else:\n",
        "    factorial = 1\n",
        "    i = 1\n",
        "    while i <= num:\n",
        "      factorial *= i\n",
        "      i += 1\n",
        "      print(f\"The factorial of {num} is:{factorial}\")"
      ],
      "metadata": {
        "id": "G1_lyUYoAOci"
      },
      "execution_count": null,
      "outputs": []
    },
    {
      "cell_type": "markdown",
      "source": [],
      "metadata": {
        "id": "ipAWWvb5soNq"
      }
    },
    {
      "cell_type": "markdown",
      "source": [],
      "metadata": {
        "id": "9H60nriSoEL5"
      }
    },
    {
      "cell_type": "code",
      "source": [],
      "metadata": {
        "id": "QzVEpC42lWOp"
      },
      "execution_count": null,
      "outputs": []
    },
    {
      "cell_type": "code",
      "source": [],
      "metadata": {
        "id": "231bVTb0lV6c"
      },
      "execution_count": null,
      "outputs": []
    },
    {
      "cell_type": "markdown",
      "source": [],
      "metadata": {
        "id": "l04sOBdPlQfZ"
      }
    },
    {
      "cell_type": "markdown",
      "source": [],
      "metadata": {
        "id": "lEHUn9rRjhao"
      }
    },
    {
      "cell_type": "markdown",
      "source": [],
      "metadata": {
        "id": "_X1WHwsUg4em"
      }
    },
    {
      "cell_type": "markdown",
      "source": [],
      "metadata": {
        "id": "Ku4et0EJg3Ru"
      }
    },
    {
      "cell_type": "code",
      "execution_count": null,
      "metadata": {
        "id": "QPIohwZVLKnK"
      },
      "outputs": [],
      "source": []
    },
    {
      "cell_type": "markdown",
      "source": [],
      "metadata": {
        "id": "vOl0AUXqL_Ah"
      }
    },
    {
      "cell_type": "markdown",
      "source": [],
      "metadata": {
        "id": "ubvWMSFOLkMK"
      }
    },
    {
      "cell_type": "markdown",
      "source": [],
      "metadata": {
        "id": "dTm5knPJLlaW"
      }
    }
  ]
}